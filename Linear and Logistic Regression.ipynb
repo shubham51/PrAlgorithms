{
 "cells": [
  {
   "cell_type": "code",
   "execution_count": 13,
   "metadata": {
    "collapsed": true
   },
   "outputs": [],
   "source": [
    "import numpy as np\n",
    "from matplotlib import pyplot as plt\n",
    "%matplotlib inline\n",
    "\n"
   ]
  },
  {
   "cell_type": "code",
   "execution_count": 14,
   "metadata": {},
   "outputs": [
    {
     "name": "stdout",
     "output_type": "stream",
     "text": [
      "(500, 2) [ 0.30965544  1.44812505]\n"
     ]
    }
   ],
   "source": [
    "mean_01 = np.array([1.5, 4.0])\n",
    "mean_02 = np.array([-1.0, -1.0])\n",
    "\n",
    "cov_01 = np.array([[1.0, 0.0], [0.0, 1.0]])\n",
    "cov_02 = np.array([[0.9, 0.3], [0.3, 0.9]])\n",
    "\n",
    "dist_01 = np.random.multivariate_normal(mean_01, cov_01, 250)\n",
    "dist_02 = np.random.multivariate_normal(mean_02, cov_02, 250)\n",
    "\n",
    "data = np.zeros((dist_01.shape[0] + dist_02.shape[0], dist_01.shape[1]))\n",
    "data[:dist_01.shape[0]] = dist_01\n",
    "data[dist_01.shape[0]:] = dist_02\n",
    "\n",
    "print data.shape, data.mean(axis=0)"
   ]
  },
  {
   "cell_type": "code",
   "execution_count": 15,
   "metadata": {},
   "outputs": [
    {
     "name": "stdout",
     "output_type": "stream",
     "text": [
      "(500,) 0.5\n"
     ]
    }
   ],
   "source": [
    "labels = np.zeros((data.shape[0],))\n",
    "labels[:dist_01.shape[0]] = 1\n",
    "\n",
    "print labels.shape, labels.mean()\n"
   ]
  },
  {
   "cell_type": "code",
   "execution_count": 16,
   "metadata": {},
   "outputs": [
    {
     "data": {
      "image/png": "[encoded data removed]",
      "text/plain": [
       "<matplotlib.figure.Figure at 0x7fd013644b10>"
      ]
     },
     "metadata": {},
     "output_type": "display_data"
    }
   ],
   "source": [
    "plt.figure(0)\n",
    "for ix in range(data.shape[0]):\n",
    "    if labels[ix] == 0:\n",
    "        plt.scatter(data[ix, 0], data[ix, 1], color='red')\n",
    "    else:\n",
    "        plt.scatter(data[ix, 0], data[ix, 1], color='green')\n",
    "plt.show()"
   ]
  },
  {
   "cell_type": "code",
   "execution_count": 17,
   "metadata": {},
   "outputs": [
    {
     "data": {
      "image/png": "[encoded data removed]",
      "text/plain": [
       "<matplotlib.figure.Figure at 0x7fd013bd0910>"
      ]
     },
     "metadata": {},
     "output_type": "display_data"
    },
    {
     "name": "stdout",
     "output_type": "stream",
     "text": [
      "[ 0.98005995  2.69857809  0.80617198  1.86741525  1.03097689]\n",
      "[ 3.47001003  5.52244543  3.50371522  3.89062905  3.20573425]\n"
     ]
    }
   ],
   "source": [
    "cov_val = [[1, 0.95], [0.95, 1]]\n",
    "\n",
    "dt = np.random.multivariate_normal(mean_01, cov_val, 300)\n",
    "\n",
    "plt.scatter(dt[:, 0], dt[:, 1])\n",
    "plt.show()\n",
    "\n",
    "X = dt[:, 0]\n",
    "y = dt[:, 1]\n",
    "\n",
    "print X[:5]\n",
    "print y[:5]"
   ]
  },
  {
   "cell_type": "code",
   "execution_count": 18,
   "metadata": {},
   "outputs": [
    {
     "name": "stdout",
     "output_type": "stream",
     "text": [
      "0.0135335283237\n"
     ]
    }
   ],
   "source": [
    "\n",
    "\n",
    "\n",
    "def h_val(x_data, theta=None):\n",
    "    # input x_data: numpy array\n",
    "    #m = len(x_data)\n",
    "    h = theta[0]*x_data + theta[1]\n",
    "    #for ix in range(m):\n",
    "    #    h += x_data[ix]*theta[ix]\n",
    "    #h += 1.0*theta[-1]\n",
    "    return h\n",
    "\n",
    "def decide(x_data, theta):\n",
    "    h = hval(x_data, theta)\n",
    "    if h > 0.5:\n",
    "        return 1\n",
    "    else:\n",
    "        return 0\n",
    "\n",
    "def compute_loss_regression(X, theta, y):\n",
    "    # Returns loss for X, y and theta values\n",
    "    n = X.shape[0]\n",
    "    loss = 0.0\n",
    "    \n",
    "    for nx in range(n):\n",
    "        error = (y[nx] - h_val(X[nx], theta))**2\n",
    "        loss += error\n",
    "    loss = loss/n\n",
    "    return loss\n",
    "\n",
    "def compute_loss_grad(X, theta, y):\n",
    "    n = X.shape[0]\n",
    "    grad1 = 0.0\n",
    "    grad2 = 0.0\n",
    "    for nx in range(n):\n",
    "        error1 = (h_val(X[nx], theta) - y[nx])*X[nx]\n",
    "        grad1 += error1\n",
    "        \n",
    "        error2 = (h_val(X[nx], theta) - y[nx])\n",
    "        grad2 += error2\n",
    "    grad1 = grad1/n\n",
    "    grad2 = grad2/n\n",
    "    return [grad1, grad2]\n",
    "\n",
    "def update_weights(X, theta, y, alpha=0.1):\n",
    "    grad = compute_loss_grad(X, theta, y)\n",
    "    theta[0] = theta[0] - alpha*grad[0]\n",
    "    theta[1] = theta[1] - alpha*grad[1]\n",
    "    return theta\n",
    "\n",
    "def adaptive_learning_rate(alpha, total_epochs, current_epoch):\n",
    "    return alpha*np.exp(-2 * float(current_epoch) / total_epochs)\n",
    "\n",
    "print adaptive_learning_rate(0.1, 200, 200)"
   ]
  },
  {
   "cell_type": "code",
   "execution_count": 19,
   "metadata": {
    "collapsed": true
   },
   "outputs": [],
   "source": [
    "theta = [np.random.random(), np.random.random()]\n",
    "nb_epoch = 200\n",
    "alpha = 0.1"
   ]
  },
  {
   "cell_type": "code",
   "execution_count": 20,
   "metadata": {},
   "outputs": [
    {
     "data": {
      "image/png": "[encoded data removed]",
      "text/plain": [
       "<matplotlib.figure.Figure at 0x7fd013cd4c90>"
      ]
     },
     "metadata": {},
     "output_type": "display_data"
    }
   ],
   "source": [
    "plt.figure(0)\n",
    "plt.scatter(X, y)\n",
    "pt1 = h_val(-2, theta)\n",
    "pt2 = h_val(4, theta)\n",
    "plt.plot([-2, 4], [pt1, pt2], 'r-')\n",
    "plt.show()"
   ]
  },
  {
   "cell_type": "code",
   "execution_count": 21,
   "metadata": {},
   "outputs": [
    {
     "name": "stdout",
     "output_type": "stream",
     "text": [
      "Error at Epoch 0: 7.57365558595 | alpha: 0.1\n",
      "Error at Epoch 10: 0.347008255864 | alpha: 0.1\n",
      "Error at Epoch 20: 0.238829187238 | alpha: 0.1\n",
      "Error at Epoch 30: 0.176706273807 | alpha: 0.1\n",
      "Error at Epoch 40: 0.140777007703 | alpha: 0.1\n",
      "Error at Epoch 50: 0.11999701163 | alpha: 0.1\n",
      "Error at Epoch 60: 0.107978724485 | alpha: 0.1\n",
      "Error at Epoch 70: 0.101027846084 | alpha: 0.1\n",
      "Error at Epoch 80: 0.0970077465498 | alpha: 0.1\n",
      "Error at Epoch 90: 0.0946826878549 | alpha: 0.1\n",
      "Error at Epoch 100: 0.0933379704198 | alpha: 0.1\n",
      "Error at Epoch 110: 0.0925602416749 | alpha: 0.1\n",
      "Error at Epoch 120: 0.0921104356527 | alpha: 0.1\n",
      "Error at Epoch 130: 0.091850286521 | alpha: 0.1\n",
      "Error at Epoch 140: 0.0916998270621 | alpha: 0.1\n",
      "Error at Epoch 150: 0.0916128075568 | alpha: 0.1\n",
      "Error at Epoch 160: 0.091562479087 | alpha: 0.1\n",
      "Error at Epoch 170: 0.0915333711893 | alpha: 0.1\n",
      "Error at Epoch 180: 0.0915165363895 | alpha: 0.1\n",
      "Error at Epoch 190: 0.0915067998402 | alpha: 0.1\n",
      "Error at Epoch 200: 0.0915011686242 | alpha: 0.1\n"
     ]
    }
   ],
   "source": [
    "all_loss = []\n",
    "for ix in range(nb_epoch+1):\n",
    "    alpha_val = alpha\n",
    "    loss = compute_loss_regression(X, theta, y)\n",
    "    all_loss.append(loss)\n",
    "    if ix%10 == 0:\n",
    "        print \"Error at Epoch {0}:\".format(ix), loss, '| alpha:', alpha_val\n",
    "    theta = update_weights(X, theta, y, alpha_val)"
   ]
  },
  {
   "cell_type": "code",
   "execution_count": 22,
   "metadata": {},
   "outputs": [
    {
     "name": "stdout",
     "output_type": "stream",
     "text": [
      "0.0915011686242\n",
      "[0.93388380035401219, 2.6344983025888769]\n"
     ]
    },
    {
     "data": {
      "image/png": "[encoded data removed]",
      "text/plain": [
       "<matplotlib.figure.Figure at 0x7fd013b59650>"
      ]
     },
     "metadata": {},
     "output_type": "display_data"
    }
   ],
   "source": [
    "plt.plot(all_loss)\n",
    "print all_loss[-1]\n",
    "print theta\n",
    "plt.show()"
   ]
  },
  {
   "cell_type": "code",
   "execution_count": 23,
   "metadata": {},
   "outputs": [
    {
     "data": {
      "image/png": "[encoded data removed]",
      "text/plain": [
       "<matplotlib.figure.Figure at 0x7fd013b593d0>"
      ]
     },
     "metadata": {},
     "output_type": "display_data"
    }
   ],
   "source": [
    "plt.figure(0)\n",
    "plt.scatter(X, y)\n",
    "pt1 = h_val(-2, theta)\n",
    "pt2 = h_val(4, theta)\n",
    "plt.plot([-2, 4], [pt1, pt2], 'r-')\n",
    "plt.show()"
   ]
  },
  {
   "cell_type": "code",
   "execution_count": 24,
   "metadata": {
    "collapsed": true
   },
   "outputs": [],
   "source": [
    "\n",
    "class LogisticRegression:\n",
    "    def __init__(self, X_train, y_train, alpha=0.01, nb_epochs=50):\n",
    "        self.y_train = y_train\n",
    "        self.alpha = alpha\n",
    "        self.nb_epochs = nb_epochs\n",
    "        self.dim = X_train.shape[1]\n",
    "        self.X_train = np.ones((X_train.shape[0], self.dim + 1))\n",
    "        self.X_train[:, 1:] = X_train\n",
    "        self.theta = np.random.random((self.dim + 1, 1))\n",
    "        self.loss_history = []\n",
    "    \n",
    "    def logit(self, x):\n",
    "        return self.sigmoid(x.dot(self.theta))\n",
    "    \n",
    "    def sigmoid(self, z):\n",
    "        return 1.0/(1.0 + np.exp(-1.0 * z))\n",
    "    \n",
    "    def compute_loss(self):\n",
    "        n = self.X_train.shape[0]\n",
    "        loss = 0.0\n",
    "        for ix in range(n):\n",
    "            hx = self.logit(self.X_train[ix])\n",
    "            error = self.y_train[ix]*np.log(hx + 1e-03) + (1 - self.y_train[ix])*np.log(1 - hx + 1e-03)\n",
    "            loss += -1.0 * error\n",
    "        # loss = loss/n\n",
    "        return loss\n",
    "    \n",
    "    def compute_grads(self):\n",
    "        n = self.X_train.shape[0]\n",
    "        grads = np.zeros(self.theta.shape)\n",
    "        \n",
    "        for ix in range(n):\n",
    "            gr = -1.0 * (self.y_train[ix] - self.logit(self.X_train[ix]))*self.X_train[ix]\n",
    "            # print gr.shape\n",
    "            # print gr\n",
    "            grads += gr.reshape(self.theta.shape)\n",
    "        return grads/n\n",
    "    \n",
    "    def update_weights(self, alpha=None):\n",
    "        if alpha == None:\n",
    "            alpha = self.alpha\n",
    "        \n",
    "        grads = self.compute_grads()\n",
    "        theta = self.theta - alpha*grads\n",
    "        self.theta = theta\n",
    "    \n",
    "    def predict(self, x_test):\n",
    "        x_vector = np.ones((1, x_test.shape[0] + 1))\n",
    "        x_vector[:, 1:] = x_test\n",
    "        hx = self.logit(x_vector)\n",
    "        if hx < 0.5:\n",
    "            return 0\n",
    "        else:\n",
    "            return 1\n",
    "    \n",
    "    def train(self, nb_epochs=None, record_loss=False):\n",
    "        if nb_epochs == None:\n",
    "            nb_epochs = self.nb_epochs\n",
    "        \n",
    "        for ex in range(nb_epochs):\n",
    "            if record_loss:\n",
    "                self.loss_history.append(self.compute_loss())\n",
    "            self.update_weights()\n",
    "\n",
    "\n",
    "\n"
   ]
  },
  {
   "cell_type": "code",
   "execution_count": 25,
   "metadata": {
    "collapsed": true
   },
   "outputs": [],
   "source": [
    "all_data = np.zeros((data.shape[0], data.shape[1] + 1))\n",
    "all_data[:, :data.shape[1]] = data\n",
    "all_data[:, -1] = labels\n",
    "\n",
    "np.random.shuffle(all_data)"
   ]
  },
  {
   "cell_type": "code",
   "execution_count": 26,
   "metadata": {
    "collapsed": true
   },
   "outputs": [],
   "source": [
    "split = int(0.8*all_data.shape[0])\n",
    "\n",
    "data_train = all_data[:split, :-1]\n",
    "data_test = all_data[split:, :-1]\n",
    "labels_train = all_data[:split, -1]\n",
    "labels_test = all_data[split:, -1]\n",
    "\n",
    "lr = LogisticRegression(X_train=data_train, y_train=labels_train, alpha=0.5, nb_epochs=200)"
   ]
  },
  {
   "cell_type": "code",
   "execution_count": 27,
   "metadata": {},
   "outputs": [
    {
     "name": "stdout",
     "output_type": "stream",
     "text": [
      "[[  2.91945539e-01   4.66233315e+00]\n",
      " [  1.02767626e+00   3.13929524e+00]\n",
      " [ -9.80115110e-01   7.19944437e-01]\n",
      " [ -3.01027053e+00  -2.85552360e+00]\n",
      " [  8.40349627e-01   3.82342954e+00]\n",
      " [  3.20418499e+00   4.94123347e+00]\n",
      " [  1.89605989e+00   2.63414090e+00]\n",
      " [  2.17030748e+00   3.58409826e+00]\n",
      " [  1.85431950e+00   4.27678069e+00]\n",
      " [  3.58409198e+00   2.71208901e+00]\n",
      " [ -2.45228872e+00  -1.14298293e+00]\n",
      " [  2.14420855e+00   5.03475406e+00]\n",
      " [  5.44088886e-01   4.83781862e+00]\n",
      " [  1.53225333e+00   4.26306867e+00]\n",
      " [ -1.01401468e-01   2.45153542e+00]\n",
      " [  2.08264314e+00   3.23743744e+00]\n",
      " [  1.53016763e+00   3.65329304e+00]\n",
      " [  3.64457571e+00   3.74937488e+00]\n",
      " [  2.51578417e+00   2.68998260e+00]\n",
      " [  1.85578936e+00   5.33663893e+00]\n",
      " [  1.50899858e+00   4.26530359e+00]\n",
      " [ -5.58319282e-01  -2.18395848e-01]\n",
      " [ -5.31056653e-01  -1.09295328e+00]\n",
      " [ -2.08085506e+00  -1.32831590e+00]\n",
      " [ -6.16386439e-01  -2.98077393e+00]\n",
      " [  2.02959415e+00   3.32556200e+00]\n",
      " [  1.67987425e+00   3.06496908e+00]\n",
      " [  8.31098763e-01   3.00188995e+00]\n",
      " [ -1.74802615e+00  -1.67754236e+00]\n",
      " [ -6.13834874e-01  -6.95824496e-01]\n",
      " [ -1.68726530e-01  -2.20440673e+00]\n",
      " [  1.91997830e+00   2.81024575e+00]\n",
      " [ -1.32582385e+00  -1.60979660e+00]\n",
      " [  2.32042725e+00   4.34028415e+00]\n",
      " [ -5.64947613e-01   6.63504088e-01]\n",
      " [  7.88010273e-01   4.78987442e+00]\n",
      " [  1.29413536e+00   3.29194748e+00]\n",
      " [  9.27764492e-01   4.36694003e+00]\n",
      " [  3.29223794e+00   3.64650508e+00]\n",
      " [ -6.71245724e-01  -1.69049797e+00]\n",
      " [  2.07523288e+00   3.44581031e+00]\n",
      " [  1.39607053e+00   5.10979850e+00]\n",
      " [  4.06082238e-01   3.30374904e+00]\n",
      " [  2.25752363e+00   3.72082843e+00]\n",
      " [ -2.02181408e+00  -1.07263829e+00]\n",
      " [ -1.42176119e+00  -1.37962632e+00]\n",
      " [  2.66596042e+00   3.92067390e+00]\n",
      " [  1.80211220e-01  -5.77198704e-01]\n",
      " [  8.77908212e-01   4.38096221e+00]\n",
      " [  5.44815839e-01   2.60201405e+00]\n",
      " [  1.08750406e+00   4.89929218e+00]\n",
      " [ -8.24439900e-01   3.72611782e-01]\n",
      " [ -9.68123952e-01  -6.73503741e-01]\n",
      " [  3.41903836e+00   3.69312312e+00]\n",
      " [ -1.75378698e+00  -5.14332305e-02]\n",
      " [  1.48975669e+00   4.45331992e+00]\n",
      " [  1.33957348e+00   3.66478051e+00]\n",
      " [ -8.70878328e-01  -3.26540217e-01]\n",
      " [  1.22653199e+00   4.55452851e+00]\n",
      " [ -1.65770105e+00  -7.29478275e-01]\n",
      " [  1.94768847e+00   4.00647196e+00]\n",
      " [  1.50575175e+00   3.84687613e+00]\n",
      " [ -1.15599710e+00  -2.55840557e-01]\n",
      " [  3.51695281e+00   2.51332454e+00]\n",
      " [ -1.30458853e+00  -1.96901465e+00]\n",
      " [  1.06523986e+00   3.63956831e+00]\n",
      " [ -1.82175402e+00   3.72064023e+00]\n",
      " [  5.84667431e-01   5.25709447e+00]\n",
      " [  5.46266936e-01  -1.04234899e+00]\n",
      " [  2.83372853e+00   3.60557563e+00]\n",
      " [  1.85409670e+00   4.58035473e+00]\n",
      " [  1.32939312e+00   3.41218943e+00]\n",
      " [  2.51674571e+00   3.88427926e+00]\n",
      " [  1.80158538e+00   4.02986264e+00]\n",
      " [ -8.70123308e-01  -1.89531704e+00]\n",
      " [ -1.27648830e-01  -9.97373879e-01]\n",
      " [ -1.46615074e+00  -1.41973725e+00]\n",
      " [ -9.95336841e-02   9.08624984e-01]\n",
      " [ -1.06229472e+00  -6.25973436e-01]\n",
      " [  2.96298755e-01   3.26738036e-01]\n",
      " [  5.49668570e-01   3.62950220e+00]\n",
      " [ -2.58979793e+00  -1.19848430e+00]\n",
      " [  1.16231518e+00   1.25159986e+00]\n",
      " [ -1.30730754e-01   4.06604169e+00]\n",
      " [ -2.87443248e-01   2.57320650e-01]\n",
      " [ -6.27985754e-01  -6.16856871e-01]\n",
      " [  2.52069661e+00   4.53560112e+00]\n",
      " [  1.24919450e+00   5.92957989e+00]\n",
      " [  2.05814213e+00   3.69066338e+00]\n",
      " [  2.46978795e+00   4.59737047e+00]\n",
      " [  2.90538286e+00   3.23332584e+00]\n",
      " [  9.36233660e-01   5.25500826e+00]\n",
      " [ -1.43406053e+00  -2.07241419e+00]\n",
      " [ -2.74746044e-01  -5.04090288e-01]\n",
      " [ -7.33162472e-01  -6.74300215e-01]\n",
      " [ -1.80312907e+00  -1.55897104e+00]\n",
      " [ -1.44049520e+00  -4.22551798e-01]\n",
      " [ -2.27511372e-01  -1.59414750e+00]\n",
      " [  2.06422830e+00   4.80268113e+00]\n",
      " [ -1.07125689e-01   5.22398448e+00]\n",
      " [  1.76335107e+00   4.51029969e+00]\n",
      " [ -8.28324841e-01  -1.49208637e+00]\n",
      " [ -2.22566420e-01  -1.50628120e+00]\n",
      " [ -4.97182144e-01  -4.75691475e-01]\n",
      " [ -1.82908135e+00  -1.84324116e+00]\n",
      " [  8.01878714e-01   3.36640341e+00]\n",
      " [  1.19566327e+00   4.63764774e+00]\n",
      " [  8.82027864e-01   3.41243156e-01]\n",
      " [  9.21409771e-01  -1.36462264e+00]\n",
      " [  2.11469874e+00   4.43248732e+00]\n",
      " [  8.17456970e-01   4.83728687e+00]\n",
      " [ -1.56447178e+00  -1.91998689e+00]\n",
      " [ -8.83879294e-01  -8.70041685e-01]\n",
      " [  8.09498750e-01  -4.19315864e-02]\n",
      " [ -3.42598941e-01   4.83743301e+00]\n",
      " [  8.98678988e-01   5.87435425e+00]\n",
      " [  1.49078647e+00   2.98656569e+00]\n",
      " [ -1.61431769e+00  -1.96352216e+00]\n",
      " [ -1.65199660e+00  -2.19148220e+00]\n",
      " [  7.13200831e-01  -1.34703513e+00]\n",
      " [ -9.47533075e-01  -8.15443536e-01]\n",
      " [ -6.63709370e-01   4.71803650e+00]\n",
      " [ -1.07175378e+00  -1.71835658e+00]\n",
      " [ -1.66060707e+00  -1.55617944e+00]\n",
      " [  2.38967254e+00   4.85622488e+00]\n",
      " [  9.67641654e-01   7.05317251e-01]\n",
      " [  2.58222503e+00   3.22714851e+00]\n",
      " [  3.48266742e+00   2.37438709e+00]\n",
      " [ -2.18947784e-01  -6.93464440e-01]\n",
      " [  1.99440153e+00   4.50112462e+00]\n",
      " [  1.22809794e+00   3.08476078e+00]\n",
      " [ -3.66339765e-01   2.94618556e+00]\n",
      " [  5.86995632e-01   5.25752829e+00]\n",
      " [  6.55765063e-02  -1.37030251e+00]\n",
      " [  1.26566961e+00   5.81827408e+00]\n",
      " [ -1.08817820e+00  -1.37891399e+00]\n",
      " [ -1.85582863e-01  -8.95327956e-01]\n",
      " [ -2.67211397e+00  -3.62699060e+00]\n",
      " [  7.15134999e-01   4.07494095e+00]\n",
      " [ -1.99888343e-01  -6.95219439e-01]\n",
      " [  2.88690405e+00   6.34108475e+00]\n",
      " [ -1.21681551e+00  -1.30512345e+00]\n",
      " [  4.70247781e-01   3.64787523e+00]\n",
      " [  8.76798460e-01   3.41543703e+00]\n",
      " [ -1.57282420e+00  -1.91661997e-01]\n",
      " [  2.57518432e+00   3.79828943e+00]\n",
      " [ -1.41491602e+00  -2.22867527e+00]\n",
      " [ -1.77998105e+00  -1.21596653e+00]\n",
      " [  4.77891909e-01   4.26369483e+00]\n",
      " [ -8.31171267e-01  -1.23896351e+00]\n",
      " [  1.86318963e+00   2.45608255e+00]\n",
      " [ -1.43743727e+00   1.03835182e+00]\n",
      " [  1.53023002e+00   5.21583345e+00]\n",
      " [ -1.24513613e+00  -1.77083438e+00]\n",
      " [  2.16051138e+00   3.75651551e+00]\n",
      " [ -6.57788811e-01  -1.83168453e+00]\n",
      " [  1.54778741e+00   3.46275143e+00]\n",
      " [ -4.93357413e-01  -8.77251570e-01]\n",
      " [ -3.05050042e+00  -5.75643172e-01]\n",
      " [  2.33077326e-01  -2.11201063e+00]\n",
      " [ -1.25336788e+00  -1.04436992e+00]\n",
      " [  1.27233818e-01  -2.73708157e-01]\n",
      " [ -1.41109733e+00  -6.51803280e-02]\n",
      " [ -2.12632061e+00  -1.23413007e+00]\n",
      " [ -8.34848827e-01  -1.16117366e+00]\n",
      " [  9.75531175e-01   4.64083312e+00]\n",
      " [ -1.33439876e-01  -8.94882837e-01]\n",
      " [ -3.58411677e-01  -1.44508194e+00]\n",
      " [  1.15057847e+00   2.70744021e+00]\n",
      " [  9.10837396e-01   3.35974764e+00]\n",
      " [ -1.44933979e+00  -1.83918059e+00]\n",
      " [ -1.61815890e+00  -1.62697370e+00]\n",
      " [  1.59084121e+00   3.04722591e+00]\n",
      " [ -2.15041755e+00  -1.14538894e+00]\n",
      " [  3.43925361e-02   2.75055435e+00]\n",
      " [ -7.56641493e-01  -1.71112790e+00]\n",
      " [  1.29509870e+00   4.17049871e+00]\n",
      " [  9.40760942e-01   2.44796287e+00]\n",
      " [ -7.70018102e-01   8.52580062e-02]\n",
      " [ -8.35896772e-01  -8.64992297e-01]\n",
      " [ -5.95555807e-01  -1.75852746e-01]\n",
      " [ -5.49586911e-01  -1.78668297e+00]\n",
      " [  3.89350043e-01   6.41160759e-01]\n",
      " [ -1.51331354e+00  -1.53179255e+00]\n",
      " [ -1.46534600e+00  -1.20512445e+00]\n",
      " [ -1.15208553e+00  -1.52057609e-01]\n",
      " [  1.55483597e+00   3.99791263e+00]\n",
      " [  7.85167382e-01   4.89351352e+00]\n",
      " [ -1.81343861e-01  -7.64975346e-01]\n",
      " [ -3.55799167e+00  -1.29037360e+00]\n",
      " [ -7.53902269e-01  -1.19096225e+00]\n",
      " [  3.48003525e-01   2.44457844e+00]\n",
      " [ -1.66772997e+00  -3.19173372e+00]\n",
      " [  1.20200383e+00   4.13836608e+00]\n",
      " [ -2.31827432e+00  -2.07607738e+00]\n",
      " [  1.48951199e+00   1.78910893e+00]\n",
      " [ -1.90069493e-01   1.58085900e+00]\n",
      " [  1.51606354e+00   4.52809448e+00]\n",
      " [  2.61677306e-01   6.67741459e-02]\n",
      " [  1.21410619e-01  -7.61655316e-01]\n",
      " [  2.77501061e+00   4.68237217e+00]\n",
      " [ -1.24891672e+00  -2.15838805e+00]\n",
      " [ -1.35407798e+00  -2.26704666e+00]\n",
      " [ -1.03415290e+00  -8.01947826e-01]\n",
      " [  1.15204683e+00   5.17236462e+00]\n",
      " [  1.50453277e+00   6.22210803e+00]\n",
      " [ -1.08471265e+00   4.14422444e-01]\n",
      " [ -2.65075353e+00  -8.83017986e-01]\n",
      " [  5.47031311e-01  -1.01224328e+00]\n",
      " [  1.80036566e-01  -1.71869257e+00]\n",
      " [ -1.96014297e+00  -9.64581579e-01]\n",
      " [ -9.48086726e-01   2.21960847e-01]\n",
      " [ -1.69253632e+00  -2.09233611e+00]\n",
      " [ -3.54331638e-01  -1.12373180e+00]\n",
      " [ -4.46159207e-01  -7.21469681e-01]\n",
      " [  4.68465524e-01  -2.03369710e+00]\n",
      " [  2.72342302e+00   4.82701201e+00]\n",
      " [  5.70580593e-02   1.81367092e-01]\n",
      " [  5.55637359e-01   4.05863852e-01]\n",
      " [  2.34120535e+00   3.28771300e+00]\n",
      " [  2.32419125e+00   2.34340620e+00]\n",
      " [  4.13955315e+00   4.50658736e+00]\n",
      " [  2.65768165e+00   3.84762715e+00]\n",
      " [ -2.64009761e+00  -1.43963250e+00]\n",
      " [  1.74910681e+00   4.14146226e+00]\n",
      " [  2.51737391e+00   4.07466434e+00]\n",
      " [ -2.28828516e+00  -1.80692563e+00]\n",
      " [  1.72087868e+00   3.56085964e+00]\n",
      " [ -1.53179377e+00  -4.55157060e+00]\n",
      " [  1.96827655e+00   3.47342157e+00]\n",
      " [ -5.18569900e-01  -2.43687486e-01]\n",
      " [  1.99050017e-01  -5.35061299e-01]\n",
      " [ -1.50522218e+00  -2.75574194e+00]\n",
      " [  8.44758843e-01  -5.92523040e-01]\n",
      " [ -4.01173274e-01   3.30494565e+00]\n",
      " [  9.94128322e-02  -8.05246168e-01]\n",
      " [ -5.19819649e-01  -3.03291019e+00]\n",
      " [ -1.01187123e+00  -1.56960367e+00]\n",
      " [  1.84530253e+00   4.07026163e+00]\n",
      " [ -2.12525963e+00  -1.03634836e+00]\n",
      " [ -9.76734371e-01  -1.99684154e+00]\n",
      " [  2.75574504e+00   6.00950482e+00]\n",
      " [  2.07345582e+00   4.63067027e+00]\n",
      " [ -1.03205856e+00  -2.01943524e+00]\n",
      " [  7.35521943e-01  -1.13222365e+00]\n",
      " [  1.31976629e+00   4.05125840e+00]\n",
      " [  1.30981516e+00   3.67621713e+00]\n",
      " [  1.33484069e+00   4.52293634e+00]\n",
      " [ -1.01837669e+00  -5.06708521e-01]\n",
      " [  6.88019075e-01   3.38679369e+00]\n",
      " [  1.18923159e+00   4.06848029e+00]\n",
      " [  2.96404913e+00   2.74698865e+00]\n",
      " [ -7.15083397e-01  -1.22347008e+00]\n",
      " [  1.00481415e-01  -1.03729748e+00]\n",
      " [  9.54945251e-01   4.89095731e+00]\n",
      " [ -6.83465363e-01  -2.63635120e+00]\n",
      " [ -9.35204298e-01  -2.19640645e+00]\n",
      " [ -1.94371310e+00  -3.93520792e-01]\n",
      " [  1.55244665e+00   3.59252663e+00]\n",
      " [  2.76045824e+00   3.73303269e+00]\n",
      " [  1.71987113e+00   3.39580853e+00]\n",
      " [  1.61890598e+00   4.60634833e+00]\n",
      " [  3.46084395e+00   3.51917600e+00]\n",
      " [ -8.47671716e-01  -8.11173234e-02]\n",
      " [ -9.59564260e-01  -1.41721584e+00]\n",
      " [ -2.47017881e+00  -2.37199958e+00]\n",
      " [  2.44222176e+00   1.98663168e+00]\n",
      " [  2.64182846e+00   3.97221326e+00]\n",
      " [ -2.42950764e+00  -7.83297561e-01]\n",
      " [ -1.80614832e-01  -8.26801382e-01]\n",
      " [ -2.62630181e+00  -2.86898114e+00]\n",
      " [  7.68150154e-01   4.77877826e+00]\n",
      " [  1.92967018e-01   4.88139571e+00]\n",
      " [  2.13795310e+00   4.63611173e+00]\n",
      " [ -2.12750126e+00  -1.74300521e+00]\n",
      " [  5.31647350e-02  -2.04112850e+00]\n",
      " [ -6.17669992e-01  -1.70773307e+00]\n",
      " [  6.21197763e-01   2.83294511e+00]\n",
      " [ -2.75582318e-01   3.36275077e+00]\n",
      " [  2.77945879e+00   3.45329434e+00]\n",
      " [ -1.43458362e+00   3.57353722e-01]\n",
      " [ -1.86675389e-01   9.39161600e-02]\n",
      " [ -3.04296510e-01   3.30669837e-02]\n",
      " [ -7.82233603e-01  -1.55153464e+00]\n",
      " [  1.26642002e+00   4.14493587e+00]\n",
      " [ -1.94373692e-01   3.09740641e-01]\n",
      " [ -1.25381368e+00  -8.93936043e-01]\n",
      " [  2.13698079e+00   2.53404685e+00]\n",
      " [  2.05955366e+00   2.29918181e+00]\n",
      " [  2.97962372e-01   3.90615365e+00]\n",
      " [  2.86128925e-01   2.98128288e+00]\n",
      " [ -5.35569644e-02  -3.95296116e-01]\n",
      " [  3.18161986e+00   5.09156184e+00]\n",
      " [ -4.07454883e-03  -6.95514903e-02]\n",
      " [  8.35044024e-03   4.04971720e+00]\n",
      " [ -6.62261955e-01  -5.63538807e-01]\n",
      " [ -2.39722022e+00  -8.43319229e-01]\n",
      " [  5.99132538e-01   4.83547005e+00]\n",
      " [ -7.64633895e-01  -1.45646688e+00]\n",
      " [  6.08936594e-01   2.69459299e-01]\n",
      " [  1.39909014e+00   2.38606351e+00]\n",
      " [  2.83613388e-01  -2.95361765e-01]\n",
      " [  4.53305119e-01  -1.34507840e+00]\n",
      " [  1.34045638e+00   4.10839527e+00]\n",
      " [  4.19466576e-01   3.46509556e+00]\n",
      " [  2.08870146e+00   3.03747956e+00]\n",
      " [ -1.09402546e+00  -1.09529861e-01]\n",
      " [  3.19392524e+00   4.87302519e+00]\n",
      " [ -2.89223075e-01  -4.23885515e-01]\n",
      " [ -1.27959818e+00  -1.32993647e+00]\n",
      " [ -1.17331721e+00  -8.98679289e-01]\n",
      " [  1.89468192e+00   4.96147665e+00]\n",
      " [  5.13468139e-01   4.38271325e+00]\n",
      " [  5.42496678e-01   2.49959343e+00]\n",
      " [ -1.05992444e+00  -1.12539141e+00]\n",
      " [  7.99080299e-01   3.48203626e+00]\n",
      " [  4.48799922e-01   5.05739984e+00]\n",
      " [ -1.16389633e+00   3.21874977e-01]\n",
      " [  2.08152538e+00   4.32744361e+00]\n",
      " [  2.03736454e-01   3.54897256e+00]\n",
      " [ -2.99878959e+00  -1.42163037e+00]\n",
      " [  3.45672636e-01  -5.54081005e-01]\n",
      " [  3.08383734e+00   5.33865739e+00]\n",
      " [  1.42381976e+00   4.92400800e+00]\n",
      " [ -1.73430100e+00  -8.54409042e-01]\n",
      " [ -8.92607143e-01  -1.42850785e+00]\n",
      " [ -1.54981143e+00  -1.81841119e+00]\n",
      " [ -1.77592583e+00  -5.18449127e-01]\n",
      " [ -1.14698100e+00  -1.99460400e+00]\n",
      " [  8.08817642e-01   4.86934199e+00]\n",
      " [  2.97873393e+00   2.85077542e+00]\n",
      " [  1.84692420e+00   1.97636959e+00]\n",
      " [  2.37280366e+00   3.39519845e+00]\n",
      " [  5.67336089e-01   4.36234675e+00]\n",
      " [ -1.98637775e+00  -3.06734752e+00]\n",
      " [ -2.00659636e+00  -1.94862112e+00]\n",
      " [  1.64231939e-01   5.36589105e+00]\n",
      " [  1.08567091e+00   2.93296266e+00]\n",
      " [  8.73334114e-01   5.67731291e+00]\n",
      " [  2.49616666e+00   2.30872886e+00]\n",
      " [ -9.34257913e-01  -5.32208457e-01]\n",
      " [ -4.39982076e-01   3.48106243e-02]\n",
      " [  2.21276816e-01  -8.92986100e-01]\n",
      " [  2.55208628e+00   2.71548673e+00]\n",
      " [ -2.65687305e-01  -2.02263849e+00]\n",
      " [  2.51655378e+00   4.84425168e+00]\n",
      " [ -1.07673916e+00  -3.60705244e-01]\n",
      " [  3.06314091e+00   3.65965729e+00]\n",
      " [  7.32592133e-01   2.94899676e-01]\n",
      " [  1.40291628e+00   3.92809117e+00]\n",
      " [ -1.02987918e-01   3.77903034e+00]\n",
      " [  1.21466855e+00  -6.39750856e-01]\n",
      " [  7.94665502e-01  -1.33371330e+00]\n",
      " [ -8.51196739e-01   1.12483284e-01]\n",
      " [  1.75004726e+00   3.87796577e+00]\n",
      " [  1.12429006e+00   4.46600246e+00]\n",
      " [  3.18134641e-01  -1.88016770e+00]\n",
      " [  2.53954917e+00   3.55866616e+00]\n",
      " [  3.63152215e+00   5.84178558e+00]\n",
      " [ -2.08332554e+00  -1.81799879e+00]\n",
      " [  1.32696512e+00   4.49591496e+00]\n",
      " [ -7.54080123e-01  -1.96433001e+00]\n",
      " [ -7.02774596e-01   1.08535127e-01]\n",
      " [ -5.48339842e-01   1.20282665e-01]\n",
      " [ -1.08242173e-03  -1.85323257e+00]\n",
      " [ -2.98717076e+00  -2.30074620e+00]\n",
      " [ -1.67041296e-01   4.08193856e+00]\n",
      " [ -5.83911326e-01  -6.44115297e-02]\n",
      " [  1.10876107e+00   5.38158978e+00]\n",
      " [  1.60526060e-01   2.96413834e+00]\n",
      " [  1.41144012e+00   3.70698828e+00]\n",
      " [  1.53508171e+00   2.44831744e+00]\n",
      " [  3.48202015e-01   3.05929454e+00]\n",
      " [  4.96690403e-01  -4.09424277e-01]\n",
      " [  7.60910501e-01   3.39799056e+00]\n",
      " [  2.05437907e-01  -6.22004907e-01]\n",
      " [  6.08036007e-01   3.84447893e+00]\n",
      " [  1.36562843e+00   6.02884122e+00]\n",
      " [ -7.85274274e-01   1.94866003e-01]\n",
      " [  1.78606801e+00   3.74556274e+00]\n",
      " [  2.18861019e+00   1.74269973e+00]\n",
      " [  5.05984982e-01   4.24789307e+00]\n",
      " [  8.72724277e-01   3.99945638e+00]\n",
      " [ -1.13101014e+00  -8.25515655e-01]\n",
      " [  1.32218859e+00   5.00786335e-01]\n",
      " [  1.38202504e+00   3.46817496e+00]\n",
      " [ -2.37662302e+00  -2.37449649e+00]\n",
      " [  1.06805595e+00   3.64152618e+00]\n",
      " [ -2.01242087e+00  -2.76722052e+00]\n",
      " [ -5.35048326e-01  -9.10580889e-01]\n",
      " [ -3.52024945e+00  -1.12517221e+00]\n",
      " [  1.53039614e+00   2.69071620e+00]\n",
      " [  1.54846182e+00   1.39109428e+00]\n",
      " [  2.07421319e+00   2.65162174e+00]\n",
      " [  1.23999824e+00   2.77907730e+00]\n",
      " [  1.33030074e+00   4.66132204e+00]\n",
      " [  2.62648848e+00   6.25731517e+00]\n",
      " [ -3.31764229e+00  -1.84559478e+00]\n",
      " [  2.81215340e+00   2.65705649e+00]\n",
      " [ -1.99147368e+00   7.05867650e-02]]\n",
      "[ 1.  1.  0.  0.  1.  1.  1.  1.  1.  1.  0.  1.  1.  1.  1.  1.  1.  1.\n",
      "  1.  1.  1.  0.  0.  0.  0.  1.  1.  1.  0.  0.  0.  1.  0.  1.  0.  1.\n",
      "  1.  1.  1.  0.  1.  1.  1.  1.  0.  0.  1.  0.  1.  1.  1.  0.  0.  1.\n",
      "  0.  1.  1.  0.  1.  0.  1.  1.  0.  1.  0.  1.  1.  1.  0.  1.  1.  1.\n",
      "  1.  1.  0.  0.  0.  0.  0.  0.  1.  0.  0.  1.  0.  0.  1.  1.  1.  1.\n",
      "  1.  1.  0.  0.  0.  0.  0.  0.  1.  1.  1.  0.  0.  0.  0.  1.  1.  0.\n",
      "  0.  1.  1.  0.  0.  0.  1.  1.  1.  0.  0.  0.  0.  1.  0.  0.  1.  0.\n",
      "  1.  1.  0.  1.  1.  1.  1.  0.  1.  0.  0.  0.  1.  0.  1.  0.  1.  1.\n",
      "  0.  1.  0.  0.  1.  0.  1.  0.  1.  0.  1.  0.  1.  0.  0.  0.  0.  0.\n",
      "  0.  0.  0.  1.  0.  0.  1.  1.  0.  0.  1.  0.  1.  0.  1.  1.  0.  0.\n",
      "  0.  0.  0.  0.  0.  0.  1.  1.  0.  0.  0.  1.  0.  1.  0.  1.  0.  1.\n",
      "  0.  0.  1.  0.  0.  0.  1.  1.  0.  0.  0.  0.  0.  0.  0.  0.  0.  0.\n",
      "  1.  0.  0.  1.  1.  1.  1.  0.  1.  1.  0.  1.  0.  1.  0.  0.  0.  0.\n",
      "  1.  0.  0.  0.  1.  0.  0.  1.  1.  0.  0.  1.  1.  1.  0.  1.  1.  1.\n",
      "  0.  0.  1.  0.  0.  0.  1.  1.  1.  1.  1.  0.  0.  0.  1.  1.  0.  0.\n",
      "  0.  1.  1.  1.  0.  0.  0.  1.  1.  1.  0.  0.  0.  0.  1.  0.  0.  1.\n",
      "  1.  1.  1.  0.  1.  0.  1.  0.  0.  1.  0.  0.  1.  0.  0.  1.  1.  1.\n",
      "  0.  1.  0.  0.  0.  1.  1.  1.  0.  1.  1.  0.  1.  1.  0.  0.  1.  1.\n",
      "  0.  0.  0.  0.  0.  1.  1.  1.  1.  1.  0.  0.  1.  1.  1.  1.  0.  0.\n",
      "  0.  1.  0.  1.  0.  1.  0.  1.  1.  0.  0.  0.  1.  1.  0.  1.  1.  0.\n",
      "  1.  0.  0.  0.  0.  0.  1.  0.  1.  1.  1.  1.  1.  0.  1.  0.  1.  1.\n",
      "  0.  1.  1.  1.  1.  0.  0.  1.  0.  1.  0.  0.  0.  1.  0.  1.  1.  1.\n",
      "  1.  0.  1.  0.]\n"
     ]
    }
   ],
   "source": [
    "print data_train\n",
    "print labels_train"
   ]
  },
  {
   "cell_type": "code",
   "execution_count": 28,
   "metadata": {},
   "outputs": [
    {
     "name": "stdout",
     "output_type": "stream",
     "text": [
      "(400, 3)\n",
      "200\n",
      "(3, 1)\n"
     ]
    }
   ],
   "source": [
    "\n",
    "print lr.X_train.shape\n",
    "print lr.nb_epochs\n",
    "print lr.theta.shape\n",
    "lr.train(record_loss=True)"
   ]
  },
  {
   "cell_type": "code",
   "execution_count": 29,
   "metadata": {},
   "outputs": [
    {
     "data": {
      "text/plain": [
       "[<matplotlib.lines.Line2D at 0x7fd013cd4450>]"
      ]
     },
     "execution_count": 29,
     "metadata": {},
     "output_type": "execute_result"
    },
    {
     "data": {
      "image/png": "[encoded data removed]",
      "text/plain": [
       "<matplotlib.figure.Figure at 0x7fd013d3d390>"
      ]
     },
     "metadata": {},
     "output_type": "display_data"
    }
   ],
   "source": [
    "plt.plot(lr.loss_history)\n"
   ]
  },
  {
   "cell_type": "code",
   "execution_count": 30,
   "metadata": {},
   "outputs": [
    {
     "data": {
      "text/plain": [
       "array([[-2.77664869],\n",
       "       [ 0.87860272],\n",
       "       [ 1.92782648]])"
      ]
     },
     "execution_count": 30,
     "metadata": {},
     "output_type": "execute_result"
    }
   ],
   "source": [
    "lr.theta\n"
   ]
  },
  {
   "cell_type": "code",
   "execution_count": 40,
   "metadata": {},
   "outputs": [],
   "source": [
    "preds = []\n",
    "for ix in range(data_test.shape[0]):\n",
    "    preds.append(lr.predict(data_test[ix]))"
   ]
  },
  {
   "cell_type": "code",
   "execution_count": 41,
   "metadata": {},
   "outputs": [
    {
     "name": "stdout",
     "output_type": "stream",
     "text": [
      "Accuracy: 100.0\n"
     ]
    }
   ],
   "source": [
    "count = 0\n",
    "for ix in range(labels_test.shape[0]):\n",
    "    if preds[ix] == labels_test[ix]:\n",
    "        count += 1\n",
    "print \"Accuracy:\", float(count*100)/labels_test.shape[0]\n"
   ]
  },
  {
   "cell_type": "code",
   "execution_count": null,
   "metadata": {
    "collapsed": true
   },
   "outputs": [],
   "source": []
  }
 ],
 "metadata": {
  "kernelspec": {
   "display_name": "Python 2",
   "language": "python",
   "name": "python2"
  },
  "language_info": {
   "codemirror_mode": {
    "name": "ipython",
    "version": 2
   },
   "file_extension": ".py",
   "mimetype": "text/x-python",
   "name": "python",
   "nbconvert_exporter": "python",
   "pygments_lexer": "ipython2",
   "version": "2.7.12+"
  }
 },
 "nbformat": 4,
 "nbformat_minor": 2
}
